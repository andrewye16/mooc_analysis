{
 "cells": [
  {
   "cell_type": "markdown",
   "source": [
    "*MOOC Completion Prediction*\n",
    "1. Data Preprocessing"
   ],
   "metadata": {
    "collapsed": false
   }
  },
  {
   "cell_type": "code",
   "execution_count": 1,
   "metadata": {
    "collapsed": true
   },
   "outputs": [],
   "source": [
    "import pandas as pd\n",
    "from sklearn.model_selection import train_test_split\n",
    "from sklearn.ensemble import RandomForestClassifier\n",
    "import sklearn\n",
    "import numpy as np\n",
    "import matplotlib.pyplot as plt\n",
    "import seaborn as sns\n",
    "import os\n",
    "import warnings"
   ]
  },
  {
   "cell_type": "code",
   "execution_count": 2,
   "outputs": [
    {
     "data": {
      "text/plain": "   user_id                                   course_id  completion  \\\n0        1  C_course-v1:TsinghuaX+00740043X_2015_T2+sp           0   \n1        1        C_course-v1:TsinghuaX+00740113_1X+sp           0   \n2        1           C_course-v1:TsinghuaX+30240184+sp           0   \n3        1          C_course-v1:TsinghuaX+30240243X+sp           0   \n4        1        C_course-v1:TsinghuaX+00740113_2X+sp           1   \n\n   local_watch  video_duration  watching_count  video_count  \n0         7697          8439.0              34           18  \n1         1618          1612.0              10            3  \n2         1386          1155.0               7            5  \n3         2614          2612.0               7            4  \n4          527          1684.0               5            2  ",
      "text/html": "<div>\n<style scoped>\n    .dataframe tbody tr th:only-of-type {\n        vertical-align: middle;\n    }\n\n    .dataframe tbody tr th {\n        vertical-align: top;\n    }\n\n    .dataframe thead th {\n        text-align: right;\n    }\n</style>\n<table border=\"1\" class=\"dataframe\">\n  <thead>\n    <tr style=\"text-align: right;\">\n      <th></th>\n      <th>user_id</th>\n      <th>course_id</th>\n      <th>completion</th>\n      <th>local_watch</th>\n      <th>video_duration</th>\n      <th>watching_count</th>\n      <th>video_count</th>\n    </tr>\n  </thead>\n  <tbody>\n    <tr>\n      <th>0</th>\n      <td>1</td>\n      <td>C_course-v1:TsinghuaX+00740043X_2015_T2+sp</td>\n      <td>0</td>\n      <td>7697</td>\n      <td>8439.0</td>\n      <td>34</td>\n      <td>18</td>\n    </tr>\n    <tr>\n      <th>1</th>\n      <td>1</td>\n      <td>C_course-v1:TsinghuaX+00740113_1X+sp</td>\n      <td>0</td>\n      <td>1618</td>\n      <td>1612.0</td>\n      <td>10</td>\n      <td>3</td>\n    </tr>\n    <tr>\n      <th>2</th>\n      <td>1</td>\n      <td>C_course-v1:TsinghuaX+30240184+sp</td>\n      <td>0</td>\n      <td>1386</td>\n      <td>1155.0</td>\n      <td>7</td>\n      <td>5</td>\n    </tr>\n    <tr>\n      <th>3</th>\n      <td>1</td>\n      <td>C_course-v1:TsinghuaX+30240243X+sp</td>\n      <td>0</td>\n      <td>2614</td>\n      <td>2612.0</td>\n      <td>7</td>\n      <td>4</td>\n    </tr>\n    <tr>\n      <th>4</th>\n      <td>1</td>\n      <td>C_course-v1:TsinghuaX+00740113_2X+sp</td>\n      <td>1</td>\n      <td>527</td>\n      <td>1684.0</td>\n      <td>5</td>\n      <td>2</td>\n    </tr>\n  </tbody>\n</table>\n</div>"
     },
     "execution_count": 2,
     "metadata": {},
     "output_type": "execute_result"
    }
   ],
   "source": [
    "# Importing the dataset\n",
    "df = pd.read_csv(\"MOOC_AGG_1NF.csv\")\n",
    "df.head()\n"
   ],
   "metadata": {
    "collapsed": false
   }
  },
  {
   "cell_type": "code",
   "execution_count": 3,
   "outputs": [
    {
     "name": "stdout",
     "output_type": "stream",
     "text": [
      "course_id    object\n",
      "counts        int64\n",
      "dtype: object\n",
      "user_id             int64\n",
      "course_id          object\n",
      "completion          int64\n",
      "local_watch         int64\n",
      "video_duration    float64\n",
      "watching_count      int64\n",
      "video_count         int64\n",
      "dtype: object\n"
     ]
    }
   ],
   "source": [
    "# read another dataset\n",
    "df2 = pd.read_csv(\"MOOC_Course_count.csv\")\n",
    "df2['counts'] = df2['counts'].astype(int)\n",
    "\n",
    "# print type for each column\n",
    "print(df2.dtypes)\n",
    "print(df.dtypes)\n"
   ],
   "metadata": {
    "collapsed": false
   }
  },
  {
   "cell_type": "code",
   "execution_count": 4,
   "outputs": [
    {
     "data": {
      "text/plain": "   user_id                                   course_id  completion  \\\n0        1  C_course-v1:TsinghuaX+00740043X_2015_T2+sp           0   \n1        1        C_course-v1:TsinghuaX+00740113_1X+sp           0   \n2        1           C_course-v1:TsinghuaX+30240184+sp           0   \n3        1          C_course-v1:TsinghuaX+30240243X+sp           0   \n4        1        C_course-v1:TsinghuaX+00740113_2X+sp           1   \n\n   local_watch  video_duration  watching_count  video_count  counts  \n0         7697          8439.0              34           18     115  \n1         1618          1612.0              10            3      36  \n2         1386          1155.0               7            5     235  \n3         2614          2612.0               7            4     137  \n4          527          1684.0               5            2      55  ",
      "text/html": "<div>\n<style scoped>\n    .dataframe tbody tr th:only-of-type {\n        vertical-align: middle;\n    }\n\n    .dataframe tbody tr th {\n        vertical-align: top;\n    }\n\n    .dataframe thead th {\n        text-align: right;\n    }\n</style>\n<table border=\"1\" class=\"dataframe\">\n  <thead>\n    <tr style=\"text-align: right;\">\n      <th></th>\n      <th>user_id</th>\n      <th>course_id</th>\n      <th>completion</th>\n      <th>local_watch</th>\n      <th>video_duration</th>\n      <th>watching_count</th>\n      <th>video_count</th>\n      <th>counts</th>\n    </tr>\n  </thead>\n  <tbody>\n    <tr>\n      <th>0</th>\n      <td>1</td>\n      <td>C_course-v1:TsinghuaX+00740043X_2015_T2+sp</td>\n      <td>0</td>\n      <td>7697</td>\n      <td>8439.0</td>\n      <td>34</td>\n      <td>18</td>\n      <td>115</td>\n    </tr>\n    <tr>\n      <th>1</th>\n      <td>1</td>\n      <td>C_course-v1:TsinghuaX+00740113_1X+sp</td>\n      <td>0</td>\n      <td>1618</td>\n      <td>1612.0</td>\n      <td>10</td>\n      <td>3</td>\n      <td>36</td>\n    </tr>\n    <tr>\n      <th>2</th>\n      <td>1</td>\n      <td>C_course-v1:TsinghuaX+30240184+sp</td>\n      <td>0</td>\n      <td>1386</td>\n      <td>1155.0</td>\n      <td>7</td>\n      <td>5</td>\n      <td>235</td>\n    </tr>\n    <tr>\n      <th>3</th>\n      <td>1</td>\n      <td>C_course-v1:TsinghuaX+30240243X+sp</td>\n      <td>0</td>\n      <td>2614</td>\n      <td>2612.0</td>\n      <td>7</td>\n      <td>4</td>\n      <td>137</td>\n    </tr>\n    <tr>\n      <th>4</th>\n      <td>1</td>\n      <td>C_course-v1:TsinghuaX+00740113_2X+sp</td>\n      <td>1</td>\n      <td>527</td>\n      <td>1684.0</td>\n      <td>5</td>\n      <td>2</td>\n      <td>55</td>\n    </tr>\n  </tbody>\n</table>\n</div>"
     },
     "execution_count": 4,
     "metadata": {},
     "output_type": "execute_result"
    }
   ],
   "source": [
    "# join tables to get information\n",
    "df_new = pd.merge(df, df2, how=\"left\", on=\"course_id\")\n",
    "df_new.head()"
   ],
   "metadata": {
    "collapsed": false
   }
  },
  {
   "cell_type": "code",
   "execution_count": 5,
   "outputs": [],
   "source": [
    "# feature engineering\n",
    "\n",
    "df_new.rename(columns={'video_count': 'episodes_watched', 'video_duration': 'video_total', \"completion\" : \"dropped\"}, inplace=True)\n",
    "df_new['episodes_percentile'] = df_new.apply(lambda x: x['episodes_watched'] / x['counts'], axis=1)\n",
    "df_new['watching_speed'] = df_new.apply(lambda x: x['local_watch'] / x['video_total'], axis=1)\n",
    "df_new.drop(['counts'], axis=1, inplace=True)\n",
    "\n",
    "df_new.head()\n",
    "\n",
    "#export to csv\n",
    "df_new.to_csv('MOOC_AGG_1NF_all.csv', index=False)\n",
    "\n",
    "\n"
   ],
   "metadata": {
    "collapsed": false
   }
  },
  {
   "cell_type": "markdown",
   "source": [
    "2. Create dictionary to convert string to int and enable the model to process the data"
   ],
   "metadata": {
    "collapsed": false
   }
  },
  {
   "cell_type": "code",
   "execution_count": 6,
   "outputs": [
    {
     "name": "stderr",
     "output_type": "stream",
     "text": [
      "/var/folders/w5/8p8hjbzs55d977j35rr3ls4w0000gn/T/ipykernel_3699/1855487061.py:9: SettingWithCopyWarning: \n",
      "A value is trying to be set on a copy of a slice from a DataFrame\n",
      "\n",
      "See the caveats in the documentation: https://pandas.pydata.org/pandas-docs/stable/user_guide/indexing.html#returning-a-view-versus-a-copy\n",
      "  df_new['course_id'][i] = dict_1.get(df_new['course_id'][i])\n"
     ]
    },
    {
     "data": {
      "text/plain": "   user_id course_id  dropped  local_watch  video_total  watching_count  \\\n0        1         0        0         7697       8439.0              34   \n1        1         1        0         1618       1612.0              10   \n2        1         2        0         1386       1155.0               7   \n3        1         3        0         2614       2612.0               7   \n4        1         4        1          527       1684.0               5   \n\n   episodes_watched  episodes_percentile  watching_speed  \n0                18             0.156522        0.912075  \n1                 3             0.083333        1.003722  \n2                 5             0.021277        1.200000  \n3                 4             0.029197        1.000766  \n4                 2             0.036364        0.312945  ",
      "text/html": "<div>\n<style scoped>\n    .dataframe tbody tr th:only-of-type {\n        vertical-align: middle;\n    }\n\n    .dataframe tbody tr th {\n        vertical-align: top;\n    }\n\n    .dataframe thead th {\n        text-align: right;\n    }\n</style>\n<table border=\"1\" class=\"dataframe\">\n  <thead>\n    <tr style=\"text-align: right;\">\n      <th></th>\n      <th>user_id</th>\n      <th>course_id</th>\n      <th>dropped</th>\n      <th>local_watch</th>\n      <th>video_total</th>\n      <th>watching_count</th>\n      <th>episodes_watched</th>\n      <th>episodes_percentile</th>\n      <th>watching_speed</th>\n    </tr>\n  </thead>\n  <tbody>\n    <tr>\n      <th>0</th>\n      <td>1</td>\n      <td>0</td>\n      <td>0</td>\n      <td>7697</td>\n      <td>8439.0</td>\n      <td>34</td>\n      <td>18</td>\n      <td>0.156522</td>\n      <td>0.912075</td>\n    </tr>\n    <tr>\n      <th>1</th>\n      <td>1</td>\n      <td>1</td>\n      <td>0</td>\n      <td>1618</td>\n      <td>1612.0</td>\n      <td>10</td>\n      <td>3</td>\n      <td>0.083333</td>\n      <td>1.003722</td>\n    </tr>\n    <tr>\n      <th>2</th>\n      <td>1</td>\n      <td>2</td>\n      <td>0</td>\n      <td>1386</td>\n      <td>1155.0</td>\n      <td>7</td>\n      <td>5</td>\n      <td>0.021277</td>\n      <td>1.200000</td>\n    </tr>\n    <tr>\n      <th>3</th>\n      <td>1</td>\n      <td>3</td>\n      <td>0</td>\n      <td>2614</td>\n      <td>2612.0</td>\n      <td>7</td>\n      <td>4</td>\n      <td>0.029197</td>\n      <td>1.000766</td>\n    </tr>\n    <tr>\n      <th>4</th>\n      <td>1</td>\n      <td>4</td>\n      <td>1</td>\n      <td>527</td>\n      <td>1684.0</td>\n      <td>5</td>\n      <td>2</td>\n      <td>0.036364</td>\n      <td>0.312945</td>\n    </tr>\n  </tbody>\n</table>\n</div>"
     },
     "execution_count": 6,
     "metadata": {},
     "output_type": "execute_result"
    }
   ],
   "source": [
    "# create a dictionary for string to int conversion\n",
    "dict_1 = {}\n",
    "for i, k in enumerate(df_new['course_id'].unique()):\n",
    "    dict_1[k] = i\n",
    "\n",
    "# apply that dictionary to the dataset\n",
    "\n",
    "for i in range(len(df_new['course_id'])):\n",
    "    df_new['course_id'][i] = dict_1.get(df_new['course_id'][i])\n",
    "\n",
    "\n",
    "\n",
    "df_new.head()\n"
   ],
   "metadata": {
    "collapsed": false
   }
  },
  {
   "cell_type": "code",
   "execution_count": 6,
   "outputs": [],
   "source": [],
   "metadata": {
    "collapsed": false
   }
  },
  {
   "cell_type": "code",
   "execution_count": 7,
   "outputs": [
    {
     "data": {
      "text/plain": "        user_id course_id  dropped  local_watch  video_total  watching_count  \\\n1699        318        23        0          569       1946.0              13   \n104452    18989        87        0         9012       7145.0              71   \n15058      2755       111        1         8295       8679.0              63   \n221723    40241        62        0        36345       4706.0              61   \n11168      2040       174        0         1668       1268.0              27   \n\n        episodes_watched  episodes_percentile  watching_speed  \n1699                   4             0.049383        0.292395  \n104452                14             0.125000        1.261302  \n15058                 14             0.093333        0.955755  \n221723                 8             0.095238        7.723119  \n11168                 16             0.216216        1.315457  ",
      "text/html": "<div>\n<style scoped>\n    .dataframe tbody tr th:only-of-type {\n        vertical-align: middle;\n    }\n\n    .dataframe tbody tr th {\n        vertical-align: top;\n    }\n\n    .dataframe thead th {\n        text-align: right;\n    }\n</style>\n<table border=\"1\" class=\"dataframe\">\n  <thead>\n    <tr style=\"text-align: right;\">\n      <th></th>\n      <th>user_id</th>\n      <th>course_id</th>\n      <th>dropped</th>\n      <th>local_watch</th>\n      <th>video_total</th>\n      <th>watching_count</th>\n      <th>episodes_watched</th>\n      <th>episodes_percentile</th>\n      <th>watching_speed</th>\n    </tr>\n  </thead>\n  <tbody>\n    <tr>\n      <th>1699</th>\n      <td>318</td>\n      <td>23</td>\n      <td>0</td>\n      <td>569</td>\n      <td>1946.0</td>\n      <td>13</td>\n      <td>4</td>\n      <td>0.049383</td>\n      <td>0.292395</td>\n    </tr>\n    <tr>\n      <th>104452</th>\n      <td>18989</td>\n      <td>87</td>\n      <td>0</td>\n      <td>9012</td>\n      <td>7145.0</td>\n      <td>71</td>\n      <td>14</td>\n      <td>0.125000</td>\n      <td>1.261302</td>\n    </tr>\n    <tr>\n      <th>15058</th>\n      <td>2755</td>\n      <td>111</td>\n      <td>1</td>\n      <td>8295</td>\n      <td>8679.0</td>\n      <td>63</td>\n      <td>14</td>\n      <td>0.093333</td>\n      <td>0.955755</td>\n    </tr>\n    <tr>\n      <th>221723</th>\n      <td>40241</td>\n      <td>62</td>\n      <td>0</td>\n      <td>36345</td>\n      <td>4706.0</td>\n      <td>61</td>\n      <td>8</td>\n      <td>0.095238</td>\n      <td>7.723119</td>\n    </tr>\n    <tr>\n      <th>11168</th>\n      <td>2040</td>\n      <td>174</td>\n      <td>0</td>\n      <td>1668</td>\n      <td>1268.0</td>\n      <td>27</td>\n      <td>16</td>\n      <td>0.216216</td>\n      <td>1.315457</td>\n    </tr>\n  </tbody>\n</table>\n</div>"
     },
     "execution_count": 7,
     "metadata": {},
     "output_type": "execute_result"
    }
   ],
   "source": [
    "training_data, testing_data = train_test_split(df_new, test_size=0.2, random_state=25)\n",
    "testing_data.head()"
   ],
   "metadata": {
    "collapsed": false
   }
  },
  {
   "cell_type": "code",
   "execution_count": 8,
   "outputs": [
    {
     "data": {
      "text/plain": "        local_watch    video_total  watching_count  episodes_watched  \\\ncount  1.823470e+05  182347.000000   182347.000000     182347.000000   \nmean   1.001487e+04    7534.285286       81.357171         14.465025   \nstd    2.593600e+04   10809.203539      209.506931         23.485315   \nmin    0.000000e+00      15.000000        1.000000          1.000000   \n25%    4.800000e+02    1159.000000        6.000000          2.000000   \n50%    2.074000e+03    3022.000000       19.000000          5.000000   \n75%    8.393500e+03    9002.000000       70.000000         16.000000   \nmax    1.659818e+06  156099.000000    11832.000000        271.000000   \n\n       episodes_percentile  watching_speed  \ncount        182347.000000   182347.000000  \nmean              0.156127        1.042955  \nstd               0.196244        3.006726  \nmin               0.001961        0.000000  \n25%               0.026786        0.423180  \n50%               0.071429        0.740958  \n75%               0.195122        1.032295  \nmax               1.600000      426.111111  ",
      "text/html": "<div>\n<style scoped>\n    .dataframe tbody tr th:only-of-type {\n        vertical-align: middle;\n    }\n\n    .dataframe tbody tr th {\n        vertical-align: top;\n    }\n\n    .dataframe thead th {\n        text-align: right;\n    }\n</style>\n<table border=\"1\" class=\"dataframe\">\n  <thead>\n    <tr style=\"text-align: right;\">\n      <th></th>\n      <th>local_watch</th>\n      <th>video_total</th>\n      <th>watching_count</th>\n      <th>episodes_watched</th>\n      <th>episodes_percentile</th>\n      <th>watching_speed</th>\n    </tr>\n  </thead>\n  <tbody>\n    <tr>\n      <th>count</th>\n      <td>1.823470e+05</td>\n      <td>182347.000000</td>\n      <td>182347.000000</td>\n      <td>182347.000000</td>\n      <td>182347.000000</td>\n      <td>182347.000000</td>\n    </tr>\n    <tr>\n      <th>mean</th>\n      <td>1.001487e+04</td>\n      <td>7534.285286</td>\n      <td>81.357171</td>\n      <td>14.465025</td>\n      <td>0.156127</td>\n      <td>1.042955</td>\n    </tr>\n    <tr>\n      <th>std</th>\n      <td>2.593600e+04</td>\n      <td>10809.203539</td>\n      <td>209.506931</td>\n      <td>23.485315</td>\n      <td>0.196244</td>\n      <td>3.006726</td>\n    </tr>\n    <tr>\n      <th>min</th>\n      <td>0.000000e+00</td>\n      <td>15.000000</td>\n      <td>1.000000</td>\n      <td>1.000000</td>\n      <td>0.001961</td>\n      <td>0.000000</td>\n    </tr>\n    <tr>\n      <th>25%</th>\n      <td>4.800000e+02</td>\n      <td>1159.000000</td>\n      <td>6.000000</td>\n      <td>2.000000</td>\n      <td>0.026786</td>\n      <td>0.423180</td>\n    </tr>\n    <tr>\n      <th>50%</th>\n      <td>2.074000e+03</td>\n      <td>3022.000000</td>\n      <td>19.000000</td>\n      <td>5.000000</td>\n      <td>0.071429</td>\n      <td>0.740958</td>\n    </tr>\n    <tr>\n      <th>75%</th>\n      <td>8.393500e+03</td>\n      <td>9002.000000</td>\n      <td>70.000000</td>\n      <td>16.000000</td>\n      <td>0.195122</td>\n      <td>1.032295</td>\n    </tr>\n    <tr>\n      <th>max</th>\n      <td>1.659818e+06</td>\n      <td>156099.000000</td>\n      <td>11832.000000</td>\n      <td>271.000000</td>\n      <td>1.600000</td>\n      <td>426.111111</td>\n    </tr>\n  </tbody>\n</table>\n</div>"
     },
     "execution_count": 8,
     "metadata": {},
     "output_type": "execute_result"
    }
   ],
   "source": [
    "actaul_training_data1 = training_data.drop(['dropped'], axis=1)\n",
    "actaul_training_data = actaul_training_data1.drop(['user_id'], axis=1)\n",
    "actaul_training_data.head()\n",
    "\n",
    "actaul_training_label = training_data['dropped']\n",
    "\n",
    "actaul_training_data.describe()\n"
   ],
   "metadata": {
    "collapsed": false
   }
  },
  {
   "cell_type": "markdown",
   "source": [
    "3. Testing different models (random forest, adaboost, gradientboost)"
   ],
   "metadata": {
    "collapsed": false
   }
  },
  {
   "cell_type": "markdown",
   "source": [],
   "metadata": {
    "collapsed": false
   }
  },
  {
   "cell_type": "code",
   "execution_count": 10,
   "outputs": [
    {
     "data": {
      "text/plain": "RandomForestClassifier(max_depth=10, random_state=445)"
     },
     "execution_count": 10,
     "metadata": {},
     "output_type": "execute_result"
    }
   ],
   "source": [
    "\n",
    "#Random Forest Classifier\n",
    "rf = RandomForestClassifier(n_estimators=100, random_state=445, max_depth=10)\n",
    "rf.fit(actaul_training_data, actaul_training_label)\n",
    "\n"
   ],
   "metadata": {
    "collapsed": false
   }
  },
  {
   "cell_type": "code",
   "execution_count": 11,
   "outputs": [
    {
     "name": "stdout",
     "output_type": "stream",
     "text": [
      "Cross-validated scores: [0.79679188 0.79149986 0.79297486 0.79541528 0.7931668 ]\n",
      "Mean: 0.7939697370821978\n"
     ]
    }
   ],
   "source": [
    "\n",
    "# cross validation\n",
    "from sklearn.model_selection import cross_val_score\n",
    "scores = cross_val_score(rf, actaul_training_data, actaul_training_label)\n",
    "print(\"Cross-validated scores:\", scores)\n",
    "print(\"Mean:\", scores.mean())\n",
    "\n"
   ],
   "metadata": {
    "collapsed": false
   }
  },
  {
   "cell_type": "code",
   "execution_count": 10,
   "outputs": [],
   "source": [
    "actaul_testing_data1 = testing_data.drop(['dropped'], axis=1)\n",
    "actaul_testing_data = actaul_testing_data1.drop(['user_id'], axis=1)\n",
    "actaul_testing_data.head()\n",
    "\n",
    "actaul_testing_label = testing_data['dropped']\n"
   ],
   "metadata": {
    "collapsed": false
   }
  },
  {
   "cell_type": "code",
   "execution_count": 76,
   "outputs": [
    {
     "name": "stdout",
     "output_type": "stream",
     "text": [
      "Accuracy: 0.7986487375786957\n",
      "Precision: 0.6781422246317882\n",
      "Recall: 0.5719402530102119\n",
      "F1: 0.6205299929720122\n"
     ]
    }
   ],
   "source": [
    "# Predicting the Test set results\n",
    "y_pred = rf.predict(actaul_testing_data)\n",
    "\n",
    "#testing scores\n",
    "print(\"Accuracy:\",sklearn.metrics.accuracy_score(actaul_testing_label, y_pred))\n",
    "print(\"Precision:\",sklearn.metrics.precision_score(actaul_testing_label, y_pred))\n",
    "print(\"Recall:\",sklearn.metrics.recall_score(actaul_testing_label, y_pred))\n",
    "print(\"F1:\",sklearn.metrics.f1_score(actaul_testing_label, y_pred))\n",
    "\n"
   ],
   "metadata": {
    "collapsed": false
   }
  },
  {
   "cell_type": "code",
   "execution_count": 14,
   "outputs": [
    {
     "name": "stderr",
     "output_type": "stream",
     "text": [
      "/opt/anaconda3/envs/MLEnv/lib/python3.10/site-packages/sklearn/ensemble/_base.py:166: FutureWarning: `base_estimator` was renamed to `estimator` in version 1.2 and will be removed in 1.4.\n",
      "  warnings.warn(\n"
     ]
    },
    {
     "name": "stdout",
     "output_type": "stream",
     "text": [
      "Accuracy: 0.7884923333406454\n",
      "Precision: 0.6405265708286222\n",
      "Recall: 0.6044048163389727\n",
      "F1: 0.6219416562107905\n"
     ]
    }
   ],
   "source": [
    "# test AdaBoostClassifier\n",
    "from sklearn.ensemble import AdaBoostClassifier\n",
    "from sklearn.tree import DecisionTreeClassifier\n",
    "\n",
    "dt = DecisionTreeClassifier(max_depth=10)\n",
    "ada = AdaBoostClassifier(base_estimator=dt, n_estimators=100, random_state=445)\n",
    "ada.fit(actaul_training_data, actaul_training_label)\n",
    "\n",
    "#testing scores\n",
    "y_pred_adp = ada.predict(actaul_testing_data)\n",
    "print(\"Accuracy:\",sklearn.metrics.accuracy_score(actaul_testing_label, y_pred_adp))\n",
    "print(\"Precision:\",sklearn.metrics.precision_score(actaul_testing_label, y_pred_adp))\n",
    "print(\"Recall:\",sklearn.metrics.recall_score(actaul_testing_label, y_pred_adp))\n",
    "print(\"F1:\",sklearn.metrics.f1_score(actaul_testing_label, y_pred_adp))\n",
    "\n"
   ],
   "metadata": {
    "collapsed": false
   }
  },
  {
   "cell_type": "code",
   "execution_count": 11,
   "outputs": [
    {
     "name": "stderr",
     "output_type": "stream",
     "text": [
      "/opt/anaconda3/envs/MLEnv/lib/python3.10/site-packages/joblib/externals/loky/process_executor.py:700: UserWarning: A worker stopped while some jobs were given to the executor. This can be caused by a too short worker timeout or by a memory leak.\n",
      "  warnings.warn(\n"
     ]
    },
    {
     "name": "stdout",
     "output_type": "stream",
     "text": [
      "{'max_depth': 10, 'n_estimators': 300}\n"
     ]
    }
   ],
   "source": [
    "# test GradientBoostingClassifier\n",
    "from sklearn.ensemble import GradientBoostingClassifier\n",
    "\n",
    "#grid search\n",
    "from sklearn.model_selection import GridSearchCV\n",
    "param_grid = {'n_estimators': [100, 200, 300, 400, 500], 'max_depth': [5, 10, 15, 20, 25]}\n",
    "gb = GradientBoostingClassifier(random_state=445)\n",
    "grid_search = GridSearchCV(gb, param_grid, cv=5, n_jobs=-1)\n",
    "\n",
    "grid_search.fit(actaul_training_data, actaul_training_label)\n",
    "print(grid_search.best_params_)"
   ],
   "metadata": {
    "collapsed": false
   }
  },
  {
   "cell_type": "code",
   "execution_count": 12,
   "outputs": [
    {
     "name": "stdout",
     "output_type": "stream",
     "text": [
      "Accuracy: 0.8285037401013446\n",
      "Precision: 0.7207792207792207\n",
      "Recall: 0.6598079561042524\n",
      "F1: 0.6889472427787061\n"
     ]
    }
   ],
   "source": [
    "gb = GradientBoostingClassifier(random_state=445, n_estimators=300, max_depth=10)\n",
    "gb.fit(actaul_training_data, actaul_training_label)\n",
    "\n",
    "#testing scores\n",
    "y_pred_gb = gb.predict(actaul_testing_data)\n",
    "print(\"Accuracy:\",sklearn.metrics.accuracy_score(actaul_testing_label, y_pred_gb))\n",
    "print(\"Precision:\",sklearn.metrics.precision_score(actaul_testing_label, y_pred_gb))\n",
    "print(\"Recall:\",sklearn.metrics.recall_score(actaul_testing_label, y_pred_gb))\n",
    "print(\"F1:\",sklearn.metrics.f1_score(actaul_testing_label, y_pred_gb))\n",
    "\n"
   ],
   "metadata": {
    "collapsed": false
   }
  },
  {
   "cell_type": "code",
   "execution_count": 20,
   "outputs": [],
   "source": [
    "#attempt XGBoost\n",
    "from xgboost import XGBClassifier\n",
    "\n",
    "actaul_training_data['course_id'] = actaul_training_data['course_id'].astype('int')\n",
    "\n",
    "actaul_training_data.dtypes\n",
    "\n",
    "actaul_testing_data['course_id'] = actaul_testing_data['course_id'].astype('int')\n",
    "\n"
   ],
   "metadata": {
    "collapsed": false
   }
  },
  {
   "cell_type": "code",
   "execution_count": 0,
   "outputs": [],
   "source": [
    "xgb = XGBClassifier(random_state=445, n_estimators=300, max_depth=10)\n",
    "xgb.fit(actaul_training_data, actaul_training_label)\n"
   ],
   "metadata": {
    "collapsed": false
   }
  },
  {
   "cell_type": "code",
   "execution_count": 21,
   "outputs": [
    {
     "name": "stdout",
     "output_type": "stream",
     "text": [
      "Accuracy: 0.8260907714918727\n",
      "Precision: 0.7139561707035755\n",
      "Recall: 0.6604176192653559\n",
      "F1: 0.6861441013460016\n"
     ]
    }
   ],
   "source": [
    "# testing scores\n",
    "y_pred_xgb = xgb.predict(actaul_testing_data)\n",
    "print(\"Accuracy:\",sklearn.metrics.accuracy_score(actaul_testing_label, y_pred_xgb))\n",
    "print(\"Precision:\",sklearn.metrics.precision_score(actaul_testing_label, y_pred_xgb))\n",
    "print(\"Recall:\",sklearn.metrics.recall_score(actaul_testing_label, y_pred_xgb))\n",
    "print(\"F1:\",sklearn.metrics.f1_score(actaul_testing_label, y_pred_xgb))\n"
   ],
   "metadata": {
    "collapsed": false
   }
  },
  {
   "cell_type": "markdown",
   "source": [
    "4. Unsupservised Learning"
   ],
   "metadata": {
    "collapsed": false
   }
  },
  {
   "cell_type": "code",
   "execution_count": 11,
   "outputs": [
    {
     "name": "stderr",
     "output_type": "stream",
     "text": [
      "/opt/anaconda3/envs/MLEnv/lib/python3.10/site-packages/sklearn/cluster/_kmeans.py:870: FutureWarning: The default value of `n_init` will change from 10 to 'auto' in 1.4. Set the value of `n_init` explicitly to suppress the warning\n",
      "  warnings.warn(\n",
      "/opt/anaconda3/envs/MLEnv/lib/python3.10/site-packages/sklearn/cluster/_kmeans.py:870: FutureWarning: The default value of `n_init` will change from 10 to 'auto' in 1.4. Set the value of `n_init` explicitly to suppress the warning\n",
      "  warnings.warn(\n",
      "/opt/anaconda3/envs/MLEnv/lib/python3.10/site-packages/sklearn/cluster/_kmeans.py:870: FutureWarning: The default value of `n_init` will change from 10 to 'auto' in 1.4. Set the value of `n_init` explicitly to suppress the warning\n",
      "  warnings.warn(\n",
      "/opt/anaconda3/envs/MLEnv/lib/python3.10/site-packages/sklearn/cluster/_kmeans.py:870: FutureWarning: The default value of `n_init` will change from 10 to 'auto' in 1.4. Set the value of `n_init` explicitly to suppress the warning\n",
      "  warnings.warn(\n",
      "/opt/anaconda3/envs/MLEnv/lib/python3.10/site-packages/sklearn/cluster/_kmeans.py:870: FutureWarning: The default value of `n_init` will change from 10 to 'auto' in 1.4. Set the value of `n_init` explicitly to suppress the warning\n",
      "  warnings.warn(\n",
      "/opt/anaconda3/envs/MLEnv/lib/python3.10/site-packages/sklearn/cluster/_kmeans.py:870: FutureWarning: The default value of `n_init` will change from 10 to 'auto' in 1.4. Set the value of `n_init` explicitly to suppress the warning\n",
      "  warnings.warn(\n",
      "/opt/anaconda3/envs/MLEnv/lib/python3.10/site-packages/sklearn/cluster/_kmeans.py:870: FutureWarning: The default value of `n_init` will change from 10 to 'auto' in 1.4. Set the value of `n_init` explicitly to suppress the warning\n",
      "  warnings.warn(\n",
      "/opt/anaconda3/envs/MLEnv/lib/python3.10/site-packages/sklearn/cluster/_kmeans.py:870: FutureWarning: The default value of `n_init` will change from 10 to 'auto' in 1.4. Set the value of `n_init` explicitly to suppress the warning\n",
      "  warnings.warn(\n",
      "/opt/anaconda3/envs/MLEnv/lib/python3.10/site-packages/sklearn/cluster/_kmeans.py:870: FutureWarning: The default value of `n_init` will change from 10 to 'auto' in 1.4. Set the value of `n_init` explicitly to suppress the warning\n",
      "  warnings.warn(\n",
      "/opt/anaconda3/envs/MLEnv/lib/python3.10/site-packages/sklearn/cluster/_kmeans.py:870: FutureWarning: The default value of `n_init` will change from 10 to 'auto' in 1.4. Set the value of `n_init` explicitly to suppress the warning\n",
      "  warnings.warn(\n"
     ]
    },
    {
     "data": {
      "text/plain": "<Figure size 640x480 with 1 Axes>",
      "image/png": "[encoded data removed]"
     },
     "metadata": {},
     "output_type": "display_data"
    }
   ],
   "source": [
    "# K-Means Clustering\n",
    "from sklearn.cluster import KMeans\n",
    "\n",
    "# generate the elbow plot\n",
    "wcss = []\n",
    "for i in range(1, 11):\n",
    "    kmeans = KMeans(n_clusters=i, init='k-means++', random_state=445)\n",
    "    kmeans.fit(actaul_training_data)\n",
    "    wcss.append(kmeans.inertia_)\n",
    "plt.plot(range(1, 11), wcss)\n",
    "plt.title('The Elbow Method')\n",
    "plt.xlabel('Number of clusters')\n",
    "plt.ylabel('WCSS')\n",
    "plt.show()\n"
   ],
   "metadata": {
    "collapsed": false
   }
  },
  {
   "cell_type": "code",
   "execution_count": 12,
   "outputs": [
    {
     "name": "stderr",
     "output_type": "stream",
     "text": [
      "/opt/anaconda3/envs/MLEnv/lib/python3.10/site-packages/sklearn/cluster/_kmeans.py:870: FutureWarning: The default value of `n_init` will change from 10 to 'auto' in 1.4. Set the value of `n_init` explicitly to suppress the warning\n",
      "  warnings.warn(\n"
     ]
    },
    {
     "data": {
      "text/plain": "<Figure size 640x480 with 1 Axes>",
      "image/png": "[encoded data removed]"
     },
     "metadata": {},
     "output_type": "display_data"
    }
   ],
   "source": [
    "# use 3 clusters\n",
    "kmeans = KMeans(n_clusters=3, init='k-means++', random_state=445)\n",
    "y_kmeans = kmeans.fit_predict(actaul_training_data)\n",
    "\n",
    "#plot the clusters\n",
    "plt.scatter(actaul_training_data.iloc[y_kmeans == 0, 0], actaul_training_data.iloc[y_kmeans == 0, 1], s = 100, c = 'red', label = 'Cluster 1')\n",
    "plt.scatter(actaul_training_data.iloc[y_kmeans == 1, 0], actaul_training_data.iloc[y_kmeans == 1, 1], s = 100, c = 'blue', label = 'Cluster 2')\n",
    "plt.scatter(actaul_training_data.iloc[y_kmeans == 2, 0], actaul_training_data.iloc[y_kmeans == 2, 1], s = 100, c = 'green', label = 'Cluster 3')\n",
    "plt.scatter(kmeans.cluster_centers_[:, 0], kmeans.cluster_centers_[:, 1], s = 300, c = 'yellow', label = 'Centroids')\n",
    "plt.title('Clusters of users')\n",
    "plt.xlabel('Course ID')\n",
    "plt.ylabel('Time spent')\n",
    "plt.legend()\n",
    "plt.show()\n"
   ],
   "metadata": {
    "collapsed": false
   }
  },
  {
   "cell_type": "code",
   "execution_count": 15,
   "outputs": [
    {
     "data": {
      "text/plain": "0.7833917883556046"
     },
     "execution_count": 15,
     "metadata": {},
     "output_type": "execute_result"
    }
   ],
   "source": [
    "# calculate the silhouette score\n",
    "from sklearn.metrics import silhouette_score\n",
    "silhouette_score(actaul_training_data, y_kmeans, n_jobs = -1)"
   ],
   "metadata": {
    "collapsed": false
   }
  },
  {
   "cell_type": "code",
   "execution_count": 14,
   "outputs": [
    {
     "data": {
      "text/plain": "         local_watch    video_total  watching_count  episodes_watched  \\\ncount   45587.000000   45587.000000    45587.000000      45587.000000   \nmean     9814.857196    7426.196927       81.523592         14.273894   \nstd     25149.032317   10634.253054      208.749551         23.152246   \nmin         0.000000      15.000000        1.000000          1.000000   \n25%       482.000000    1159.000000        6.000000          2.000000   \n50%      2043.000000    3000.000000       19.000000          5.000000   \n75%      8274.000000    8842.500000       69.000000         16.000000   \nmax    987183.000000  120444.000000     6967.000000        219.000000   \n\n       episodes_percentile  watching_speed  \ncount         45587.000000    45587.000000  \nmean              0.154899        1.034817  \nstd               0.194900        2.311533  \nmin               0.001961        0.000000  \n25%               0.026786        0.419703  \n50%               0.070707        0.738748  \n75%               0.192982        1.032269  \nmax               1.407895      126.626335  ",
      "text/html": "<div>\n<style scoped>\n    .dataframe tbody tr th:only-of-type {\n        vertical-align: middle;\n    }\n\n    .dataframe tbody tr th {\n        vertical-align: top;\n    }\n\n    .dataframe thead th {\n        text-align: right;\n    }\n</style>\n<table border=\"1\" class=\"dataframe\">\n  <thead>\n    <tr style=\"text-align: right;\">\n      <th></th>\n      <th>local_watch</th>\n      <th>video_total</th>\n      <th>watching_count</th>\n      <th>episodes_watched</th>\n      <th>episodes_percentile</th>\n      <th>watching_speed</th>\n    </tr>\n  </thead>\n  <tbody>\n    <tr>\n      <th>count</th>\n      <td>45587.000000</td>\n      <td>45587.000000</td>\n      <td>45587.000000</td>\n      <td>45587.000000</td>\n      <td>45587.000000</td>\n      <td>45587.000000</td>\n    </tr>\n    <tr>\n      <th>mean</th>\n      <td>9814.857196</td>\n      <td>7426.196927</td>\n      <td>81.523592</td>\n      <td>14.273894</td>\n      <td>0.154899</td>\n      <td>1.034817</td>\n    </tr>\n    <tr>\n      <th>std</th>\n      <td>25149.032317</td>\n      <td>10634.253054</td>\n      <td>208.749551</td>\n      <td>23.152246</td>\n      <td>0.194900</td>\n      <td>2.311533</td>\n    </tr>\n    <tr>\n      <th>min</th>\n      <td>0.000000</td>\n      <td>15.000000</td>\n      <td>1.000000</td>\n      <td>1.000000</td>\n      <td>0.001961</td>\n      <td>0.000000</td>\n    </tr>\n    <tr>\n      <th>25%</th>\n      <td>482.000000</td>\n      <td>1159.000000</td>\n      <td>6.000000</td>\n      <td>2.000000</td>\n      <td>0.026786</td>\n      <td>0.419703</td>\n    </tr>\n    <tr>\n      <th>50%</th>\n      <td>2043.000000</td>\n      <td>3000.000000</td>\n      <td>19.000000</td>\n      <td>5.000000</td>\n      <td>0.070707</td>\n      <td>0.738748</td>\n    </tr>\n    <tr>\n      <th>75%</th>\n      <td>8274.000000</td>\n      <td>8842.500000</td>\n      <td>69.000000</td>\n      <td>16.000000</td>\n      <td>0.192982</td>\n      <td>1.032269</td>\n    </tr>\n    <tr>\n      <th>max</th>\n      <td>987183.000000</td>\n      <td>120444.000000</td>\n      <td>6967.000000</td>\n      <td>219.000000</td>\n      <td>1.407895</td>\n      <td>126.626335</td>\n    </tr>\n  </tbody>\n</table>\n</div>"
     },
     "execution_count": 14,
     "metadata": {},
     "output_type": "execute_result"
    }
   ],
   "source": [
    "\n",
    "actaul_testing_data.describe()"
   ],
   "metadata": {
    "collapsed": false
   }
  },
  {
   "cell_type": "code",
   "execution_count": null,
   "outputs": [],
   "source": [],
   "metadata": {
    "collapsed": false
   }
  }
 ],
 "metadata": {
  "kernelspec": {
   "display_name": "Python 3",
   "language": "python",
   "name": "python3"
  },
  "language_info": {
   "codemirror_mode": {
    "name": "ipython",
    "version": 2
   },
   "file_extension": ".py",
   "mimetype": "text/x-python",
   "name": "python",
   "nbconvert_exporter": "python",
   "pygments_lexer": "ipython2",
   "version": "2.7.6"
  }
 },
 "nbformat": 4,
 "nbformat_minor": 0
}
